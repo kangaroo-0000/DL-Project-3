{
 "cells": [
  {
   "cell_type": "markdown",
   "id": "4e81056c",
   "metadata": {},
   "source": [
    "# Adversarial Attacks with ResNet-34\n",
    "\n",
    "This notebook performs two tasks:\n",
    "1. Evaluate clean top-1/top-5 accuracy on a 100-class subset of ImageNet-1K\n",
    "2. Apply FGSM (ε=0.02) to generate adversarial examples, evaluate again, and visualize misclassifications\n"
   ]
  },
  {
   "cell_type": "markdown",
   "id": "d63cc0de",
   "metadata": {},
   "source": [
    "## Imports and Preprocessing"
   ]
  },
  {
   "cell_type": "code",
   "execution_count": null,
   "id": "b1649bfb",
   "metadata": {},
   "outputs": [],
   "source": [
    "import json\n",
    "import torch\n",
    "import torch.nn.functional as F\n",
    "from torch.utils.data import DataLoader, TensorDataset\n",
    "from torchvision import transforms, datasets, models\n",
    "import numpy as np\n",
    "import matplotlib.pyplot as plt\n",
    "from tqdm import tqdm\n",
    "\n",
    "# Device\n",
    "device = torch.device(\"cuda\" if torch.cuda.is_available() else \"cpu\")\n",
    "\n",
    "# Normalization constants\n",
    "mean_norms = np.array([0.485, 0.456, 0.406])\n",
    "std_norms  = np.array([0.229, 0.224, 0.225])\n",
    "\n",
    "plain_transforms = transforms.Compose([\n",
    "    transforms.ToTensor(),\n",
    "    transforms.Normalize(mean=mean_norms, std=std_norms),\n",
    "])\n"
   ]
  },
  {
   "cell_type": "markdown",
   "id": "1f0ad987",
   "metadata": {},
   "source": [
    "## Task 1: Clean Accuracy Evaluation"
   ]
  },
  {
   "cell_type": "code",
   "execution_count": null,
   "id": "f595cc3c",
   "metadata": {},
   "outputs": [],
   "source": [
    "# Load dataset\n",
    "dataset = datasets.ImageFolder(\n",
    "    root=\"./TestDataSet/TestDataSet\",\n",
    "    transform=plain_transforms\n",
    ")\n",
    "loader = DataLoader(dataset, batch_size=32, shuffle=False, num_workers=4)\n",
    "\n",
    "# Load mapping\n",
    "with open(\"./TestDataSet/TestDataSet/labels_list.json\") as f:\n",
    "    entries = json.load(f)\n",
    "idx_to_true = { i: int(entries[i].split(\":\",1)[0]) for i in range(len(entries)) }\n",
    "\n",
    "# Load model\n",
    "model = models.resnet34(weights=models.ResNet34_Weights.IMAGENET1K_V1)\n",
    "model.eval().to(device)\n",
    "\n",
    "# Evaluate\n",
    "top1 = top5 = total = 0\n",
    "with torch.no_grad():\n",
    "    for imgs, labels in tqdm(loader, desc=\"Clean Eval\"):\n",
    "        imgs = imgs.to(device)\n",
    "        logits = model(imgs)\n",
    "        _, p5 = logits.topk(5, dim=1)\n",
    "        true = torch.tensor([idx_to_true[int(l)] for l in labels], device=p5.device)\n",
    "        top1 += (p5[:,0] == true).sum().item()\n",
    "        top5 += (p5 == true.unsqueeze(1)).any(dim=1).sum().item()\n",
    "        total += labels.size(0)\n",
    "\n",
    "print(f\"Top-1 accuracy: {top1/total*100:.2f}%\")\n",
    "print(f\"Top-5 accuracy: {top5/total*100:.2f}%\")\n"
   ]
  },
  {
   "cell_type": "markdown",
   "id": "7b0fce42",
   "metadata": {},
   "source": [
    "## Task 2: FGSM Attack & Adversarial Evaluation"
   ]
  },
  {
   "cell_type": "code",
   "execution_count": null,
   "id": "b1008d75",
   "metadata": {},
   "outputs": [],
   "source": [
    "# FGSM helper\n",
    "cn = torch.tensor(mean_norms, device=device)[:,None,None]\n",
    "cs = torch.tensor(std_norms,  device=device)[:,None,None]\n",
    "min_val = (0 - cn) / cs\n",
    "max_val = (1 - cn) / cs\n",
    "\n",
    "def fgsm(image, eps, grad):\n",
    "    return torch.max(torch.min(image + eps*grad.sign(), max_val), min_val)\n",
    "\n",
    "# Single-image loader\n",
    "si_loader = DataLoader(dataset, batch_size=1, shuffle=False, num_workers=0)\n",
    "\n",
    "# Run FGSM\n",
    "epsilon = 0.02\n",
    "adv_images, adv_labels, orig_preds, adv_preds = [], [], [], []\n",
    "\n",
    "for img, lab in tqdm(si_loader, desc=\"FGSM\"):\n",
    "    img = img.to(device).detach().requires_grad_(True)\n",
    "    lab = lab.to(device)\n",
    "    out = model(img)\n",
    "    true_idx = torch.tensor([idx_to_true[int(lab)]], device=device)\n",
    "    loss = F.cross_entropy(out, true_idx)\n",
    "    model.zero_grad(); loss.backward()\n",
    "    adv = fgsm(img, epsilon, img.grad.data).detach().to(torch.float32)\n",
    "    adv_images.append(adv.squeeze(0).cpu())\n",
    "    adv_labels.append(int(lab))\n",
    "    orig_preds.append(out.argmax(1).item())\n",
    "    adv_preds.append(model(adv).argmax(1).item())\n",
    "\n",
    "# Build adversarial set\n",
    "adv_tensor = torch.stack(adv_images)\n",
    "lab_tensor = torch.tensor(adv_labels)\n",
    "adv_set = TensorDataset(adv_tensor, lab_tensor)\n",
    "adv_loader = DataLoader(adv_set, batch_size=32, shuffle=False)\n",
    "\n",
    "# Evaluate adversarial set\n",
    "top1 = top5 = total = 0\n",
    "with torch.no_grad():\n",
    "    for imgs, labs in adv_loader:\n",
    "        imgs = imgs.to(device)\n",
    "        out = model(imgs)\n",
    "        _, p5 = out.topk(5,1)\n",
    "        true = torch.tensor([idx_to_true[int(l)] for l in labs], device=p5.device)\n",
    "        top1 += (p5[:,0]==true).sum().item()\n",
    "        top5 += (p5==true.unsqueeze(1)).any(1).sum().item()\n",
    "        total += labs.size(0)\n",
    "print(f\"Adversarial top-1: {top1/total*100:.2f}%\")\n",
    "print(f\"Adversarial top-5: {top5/total*100:.2f}%\")\n"
   ]
  },
  {
   "cell_type": "markdown",
   "id": "fc548b57",
   "metadata": {},
   "source": [
    "### Visualize Misclassified Examples"
   ]
  },
  {
   "cell_type": "code",
   "execution_count": null,
   "id": "dca86b3d",
   "metadata": {},
   "outputs": [],
   "source": [
    "# Find 3 flips\n",
    "idx_map = {v:k for k,v in dataset.class_to_idx.items()}\n",
    "picked=[]\n",
    "for i,(o,a,l) in enumerate(zip(orig_preds, adv_preds, adv_labels)):\n",
    "    if o==idx_to_true[l] and a!=idx_to_true[l]: picked.append(i)\n",
    "    if len(picked)>=3: break\n",
    "\n",
    "# Un-normalizer\n",
    "inv_norm = transforms.Normalize(\n",
    "    mean=(-mean_norms/std_norms).tolist(),\n",
    "    std=(1/std_norms).tolist()\n",
    ")\n",
    "\n",
    "fig, axes = plt.subplots(2,3,figsize=(12,6))\n",
    "for col, i in enumerate(picked):\n",
    "    for row, img in enumerate([inv_norm(adv_images[i]), inv_norm(adv_images[i])]):\n",
    "        ax=axes[row,col]\n",
    "        ax.imshow(img.permute(1,2,0).clamp(0,1).numpy())\n",
    "        ax.axis('off')\n",
    "        ax.set_title(('orig' if row==0 else 'adv')+f\"\\ntrue={idx_map[adv_labels[i]]}\")\n",
    "plt.tight_layout(); plt.show()\n"
   ]
  }
 ],
 "metadata": {},
 "nbformat": 4,
 "nbformat_minor": 5
}
